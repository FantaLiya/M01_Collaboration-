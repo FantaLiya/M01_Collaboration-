{
 "cells": [
  {
   "cell_type": "markdown",
   "id": "3a256f42",
   "metadata": {},
   "source": [
    "# Title: M02 case study if ...else and while\n",
    "# Author name: Fantahun Kasahun\n",
    "# Updated Date: June 6,2022\n",
    "# Pupose: This app can accepts a student's firs,last name and cumulative GPA\n",
    "# to generate a message if a student is in the list of Dean's or Honor Roll.\n"
   ]
  },
  {
   "cell_type": "code",
   "execution_count": 3,
   "id": "cfdb5358",
   "metadata": {},
   "outputs": [
    {
     "name": "stdout",
     "output_type": "stream",
     "text": [
      "enter last_name:kasahun\n",
      "enter 'ZZZ'to stop:ZZZ\n"
     ]
    }
   ],
   "source": [
    "last_name=input(\"enter last_name:\")\n",
    "last_name=input(\"enter 'ZZZ'to stop:\")\n",
    "while last_name!='ZZZ':"
   ]
  },
  {
   "cell_type": "code",
   "execution_count": 7,
   "id": "21d1303b",
   "metadata": {},
   "outputs": [
    {
     "name": "stdout",
     "output_type": "stream",
     "text": [
      "Enter your first name:Fantahun\n",
      "enter Fantahun ZZZ's GPA:3.5\n"
     ]
    },
    {
     "ename": "NameError",
     "evalue": "name 'firs_name' is not defined",
     "output_type": "error",
     "traceback": [
      "\u001b[1;31m---------------------------------------------------------------------------\u001b[0m",
      "\u001b[1;31mNameError\u001b[0m                                 Traceback (most recent call last)",
      "Input \u001b[1;32mIn [7]\u001b[0m, in \u001b[0;36m<cell line: 3>\u001b[1;34m()\u001b[0m\n\u001b[0;32m      2\u001b[0m gpa\u001b[38;5;241m=\u001b[39m\u001b[38;5;28mfloat\u001b[39m(\u001b[38;5;28minput\u001b[39m(\u001b[38;5;124mf\u001b[39m\u001b[38;5;124m\"\u001b[39m\u001b[38;5;124menter \u001b[39m\u001b[38;5;132;01m{\u001b[39;00mfirst_name\u001b[38;5;132;01m}\u001b[39;00m\u001b[38;5;124m \u001b[39m\u001b[38;5;132;01m{\u001b[39;00mlast_name\u001b[38;5;132;01m}\u001b[39;00m\u001b[38;5;124m'\u001b[39m\u001b[38;5;124ms GPA:\u001b[39m\u001b[38;5;124m\"\u001b[39m))\n\u001b[0;32m      3\u001b[0m \u001b[38;5;28;01mif\u001b[39;00m gpa\u001b[38;5;241m>\u001b[39m\u001b[38;5;241m=\u001b[39m\u001b[38;5;241m3.5\u001b[39m:\n\u001b[1;32m----> 4\u001b[0m    \u001b[38;5;28mprint\u001b[39m(\u001b[38;5;124mf\u001b[39m\u001b[38;5;124m\"\u001b[39m\u001b[38;5;132;01m{\u001b[39;00mfirs_name\u001b[38;5;132;01m}\u001b[39;00m\u001b[38;5;124m \u001b[39m\u001b[38;5;132;01m{\u001b[39;00mlast_name\u001b[38;5;132;01m}\u001b[39;00m\u001b[38;5;124m,has made the Dean\u001b[39m\u001b[38;5;124m'\u001b[39m\u001b[38;5;124ms List.\u001b[39m\u001b[38;5;124m\"\u001b[39m)\n\u001b[0;32m      5\u001b[0m \u001b[38;5;28;01mif\u001b[39;00m gpa\u001b[38;5;241m>\u001b[39m\u001b[38;5;241m=\u001b[39m\u001b[38;5;241m3.25\u001b[39m:\n\u001b[0;32m      6\u001b[0m     \u001b[38;5;28mprint\u001b[39m(\u001b[38;5;124mf\u001b[39m\u001b[38;5;124m\"\u001b[39m\u001b[38;5;132;01m{\u001b[39;00mfirs_name\u001b[38;5;132;01m}\u001b[39;00m\u001b[38;5;124m \u001b[39m\u001b[38;5;132;01m{\u001b[39;00mlast_name\u001b[38;5;132;01m}\u001b[39;00m\u001b[38;5;124m,has made the Honor Roll.\u001b[39m\u001b[38;5;124m\"\u001b[39m)\n",
      "\u001b[1;31mNameError\u001b[0m: name 'firs_name' is not defined"
     ]
    }
   ],
   "source": [
    "\n",
    "    first_name=input(\"Enter your first name:\")\n",
    "    gpa=float(input(f\"enter {first_name} {last_name}'s GPA:\"))\n",
    "    if gpa>=3.5:\n",
    "       print(f\"{firs_name} {last_name},has made the Dean's List.\")\n",
    "    if gpa>=3.25:\n",
    "        print(f\"{firs_name} {last_name},has made the Honor Roll.\")"
   ]
  },
  {
   "cell_type": "code",
   "execution_count": 6,
   "id": "9e2766f3",
   "metadata": {},
   "outputs": [
    {
     "name": "stdout",
     "output_type": "stream",
     "text": [
      "the correct answer:\n"
     ]
    }
   ],
   "source": [
    "print(\"the correct answer:\")"
   ]
  },
  {
   "cell_type": "code",
   "execution_count": null,
   "id": "dd9668a2",
   "metadata": {},
   "outputs": [],
   "source": []
  }
 ],
 "metadata": {
  "kernelspec": {
   "display_name": "Python 3 (ipykernel)",
   "language": "python",
   "name": "python3"
  },
  "language_info": {
   "codemirror_mode": {
    "name": "ipython",
    "version": 3
   },
   "file_extension": ".py",
   "mimetype": "text/x-python",
   "name": "python",
   "nbconvert_exporter": "python",
   "pygments_lexer": "ipython3",
   "version": "3.9.12"
  }
 },
 "nbformat": 4,
 "nbformat_minor": 5
}
